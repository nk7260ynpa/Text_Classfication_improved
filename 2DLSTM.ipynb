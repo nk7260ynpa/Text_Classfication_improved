{
 "cells": [
  {
   "cell_type": "code",
   "execution_count": 1,
   "metadata": {
    "collapsed": true
   },
   "outputs": [],
   "source": [
    "import numpy as np\n",
    "np.random.seed(1)"
   ]
  },
  {
   "cell_type": "code",
   "execution_count": 2,
   "metadata": {
    "collapsed": true
   },
   "outputs": [],
   "source": [
    "def sigmoid(x):\n",
    "    return 1 / (1 + np.exp(-x))"
   ]
  },
  {
   "cell_type": "code",
   "execution_count": 3,
   "metadata": {
    "collapsed": true
   },
   "outputs": [],
   "source": [
    "def softmax(a):\n",
    "    c = np.max(a)\n",
    "    exp_a = np.exp(a - c)\n",
    "    sum_exp_a = np.sum(exp_a)\n",
    "    y = exp_a / sum_exp_a\n",
    "    return y"
   ]
  },
  {
   "cell_type": "code",
   "execution_count": 30,
   "metadata": {
    "collapsed": true
   },
   "outputs": [],
   "source": [
    "data = np.array([[1, 3, 4, 2, 2],\n",
    "                 [2, 5, 7, -1,4],\n",
    "                 [1,-2,-3, 5, 8],\n",
    "                 [2,-4,-2, 1, 9]])"
   ]
  },
  {
   "cell_type": "code",
   "execution_count": 31,
   "metadata": {
    "collapsed": true
   },
   "outputs": [],
   "source": [
    "bf = np.random.random(size=[1,6])\n",
    "bi = np.random.random(size=[1,6])\n",
    "bc = np.random.random(size=[1,6])\n",
    "bo = np.random.random(size=[1,6])\n",
    "Wf = np.random.random(size=[6,6])\n",
    "Wi = np.random.random(size=[6,6])\n",
    "Wc = np.random.random(size=[6,6])\n",
    "Wo = np.random.random(size=[6,6])\n",
    "Uf = np.random.random(size=[5,6])\n",
    "Ui = np.random.random(size=[5,6])\n",
    "Uc = np.random.random(size=[5,6])\n",
    "Uo = np.random.random(size=[5,6])\n",
    "h1_for = np.random.random(size=[1,6])\n",
    "c1_for = np.random.random(size=[1,6])\n",
    "h4_back = np.random.random(size=[1,6])\n",
    "c4_back = np.random.random(size=[1,6])"
   ]
  },
  {
   "cell_type": "code",
   "execution_count": 32,
   "metadata": {
    "collapsed": true
   },
   "outputs": [],
   "source": [
    "#------------------------------------------------------------------"
   ]
  },
  {
   "cell_type": "code",
   "execution_count": 33,
   "metadata": {
    "collapsed": false
   },
   "outputs": [],
   "source": [
    "#第1個字\n",
    "f1_for = sigmoid(np.dot(h1_for, Wf) + np.dot(data[0], Uf) + bf)\n",
    "i1_for = sigmoid(np.dot(h1_for, Wi) + np.dot(data[0], Ui) + bi)\n",
    "a1_for = np.tanh(np.dot(h1_for, Wc) + np.dot(data[0], Uc) + bc)\n",
    "o1_for = sigmoid(np.dot(h1_for, Wo) + np.dot(data[0], Uo) + bo)"
   ]
  },
  {
   "cell_type": "code",
   "execution_count": 34,
   "metadata": {
    "collapsed": false
   },
   "outputs": [],
   "source": [
    "#第2個字\n",
    "h2_for = np.multiply(o1_for, np.tanh(c1_for))\n",
    "c2_for = np.multiply(f1_for, c1_for) + np.multiply(i1_for, a1_for)\n",
    "f2_for = sigmoid(np.dot(h2_for, Wf) + np.dot(data[1], Uf) + bf)\n",
    "i2_for = sigmoid(np.dot(h2_for, Wi) + np.dot(data[1], Ui) + bi)\n",
    "a2_for = np.tanh(np.dot(h2_for, Wc) + np.dot(data[1], Uc) + bc)\n",
    "o2_for = sigmoid(np.dot(h2_for, Wo) + np.dot(data[1], Uo) + bo)"
   ]
  },
  {
   "cell_type": "code",
   "execution_count": 35,
   "metadata": {
    "collapsed": false
   },
   "outputs": [],
   "source": [
    "#第3個字\n",
    "h3_for = np.multiply(o2_for, np.tanh(c2_for))\n",
    "c3_for = np.multiply(f2_for, c2_for) + np.multiply(i2_for, a2_for)\n",
    "f3_for = sigmoid(np.dot(h3_for, Wf) + np.dot(data[2], Uf) + bf)\n",
    "i3_for = sigmoid(np.dot(h3_for, Wi) + np.dot(data[2], Ui) + bi)\n",
    "a3_for = np.tanh(np.dot(h3_for, Wc) + np.dot(data[2], Uc) + bc)\n",
    "o3_for = sigmoid(np.dot(h3_for, Wo) + np.dot(data[2], Uo) + bo)"
   ]
  },
  {
   "cell_type": "code",
   "execution_count": 36,
   "metadata": {
    "collapsed": false
   },
   "outputs": [],
   "source": [
    "#第4個字\n",
    "h4_for = np.multiply(o3_for, np.tanh(c3_for))\n",
    "c4_for = np.multiply(f3_for, c3_for) + np.multiply(i3_for, a3_for)\n",
    "f4_for = sigmoid(np.dot(h4_for, Wf) + np.dot(data[3], Uf) + bf)\n",
    "i4_for = sigmoid(np.dot(h4_for, Wi) + np.dot(data[3], Ui) + bi)\n",
    "a4_for = np.tanh(np.dot(h4_for, Wc) + np.dot(data[3], Uc) + bc)\n",
    "o4_for = sigmoid(np.dot(h4_for, Wo) + np.dot(data[3], Uo) + bo)"
   ]
  },
  {
   "cell_type": "code",
   "execution_count": 37,
   "metadata": {
    "collapsed": false
   },
   "outputs": [],
   "source": [
    "#逆向的分界"
   ]
  },
  {
   "cell_type": "code",
   "execution_count": 38,
   "metadata": {
    "collapsed": false
   },
   "outputs": [],
   "source": [
    "f4_back = sigmoid(np.dot(h4_back, Wf) + np.dot(data[3], Uf) + bf)\n",
    "i4_back = sigmoid(np.dot(h4_back, Wi) + np.dot(data[3], Ui) + bi)\n",
    "a4_back = np.tanh(np.dot(h4_back, Wc) + np.dot(data[3], Uc) + bc)\n",
    "o4_back = sigmoid(np.dot(h4_back, Wo) + np.dot(data[3], Uo) + bo)"
   ]
  },
  {
   "cell_type": "code",
   "execution_count": 39,
   "metadata": {
    "collapsed": true
   },
   "outputs": [],
   "source": [
    "h3_back = np.multiply(o4_back, np.tanh(o4_back))\n",
    "c3_back = np.multiply(f4_back, c4_back) + np.multiply(i4_back, a4_back)\n",
    "f3_back = sigmoid(np.dot(h3_back, Wf) + np.dot(data[2], Uf) + bf)\n",
    "i3_back = sigmoid(np.dot(h3_back, Wi) + np.dot(data[2], Ui) + bi)\n",
    "a3_back = np.tanh(np.dot(h3_back, Wc) + np.dot(data[2], Uc) + bc)\n",
    "o3_back = sigmoid(np.dot(h3_back, Wo) + np.dot(data[2], Uo) + bo)"
   ]
  },
  {
   "cell_type": "code",
   "execution_count": 40,
   "metadata": {
    "collapsed": true
   },
   "outputs": [],
   "source": [
    "h2_back = np.multiply(o3_back, np.tanh(o3_back))\n",
    "c2_back = np.multiply(f3_back, c3_back) + np.multiply(i3_back, a3_back)\n",
    "f2_back = sigmoid(np.dot(h2_back, Wf) + np.dot(data[1], Uf) + bf)\n",
    "i2_back = sigmoid(np.dot(h2_back, Wi) + np.dot(data[1], Ui) + bi)\n",
    "a2_back = np.tanh(np.dot(h2_back, Wc) + np.dot(data[1], Uc) + bc)\n",
    "o2_back = sigmoid(np.dot(h2_back, Wo) + np.dot(data[1], Uo) + bo)"
   ]
  },
  {
   "cell_type": "code",
   "execution_count": 41,
   "metadata": {
    "collapsed": true
   },
   "outputs": [],
   "source": [
    "h1_back = np.multiply(o2_back, np.tanh(o2_back))\n",
    "c1_back = np.multiply(f2_back, c2_back) + np.multiply(i2_back, a2_back)\n",
    "f1_back = sigmoid(np.dot(h1_back, Wf) + np.dot(data[0], Uf) + bf)\n",
    "i1_back = sigmoid(np.dot(h1_back, Wi) + np.dot(data[0], Ui) + bi)\n",
    "a1_back = np.tanh(np.dot(h1_back, Wc) + np.dot(data[0], Uc) + bc)\n",
    "o1_back = sigmoid(np.dot(h1_back, Wo) + np.dot(data[0], Uo) + bo)"
   ]
  },
  {
   "cell_type": "code",
   "execution_count": 42,
   "metadata": {
    "collapsed": true
   },
   "outputs": [],
   "source": [
    "h1 = h1_for + h1_back\n",
    "h2 = h2_for + h2_back\n",
    "h3 = h3_for + h3_back\n",
    "h4 = h4_for + h4_back"
   ]
  },
  {
   "cell_type": "code",
   "execution_count": 43,
   "metadata": {
    "collapsed": false
   },
   "outputs": [],
   "source": [
    "o1 = sigmoid(np.dot(h1, Wo) + np.dot(data[0], Uo) + bo)\n",
    "o2 = sigmoid(np.dot(h2, Wo) + np.dot(data[1], Uo) + bo)\n",
    "o3 = sigmoid(np.dot(h3, Wo) + np.dot(data[2], Uo) + bo)\n",
    "o4 = sigmoid(np.dot(h4, Wo) + np.dot(data[3], Uo) + bo)"
   ]
  },
  {
   "cell_type": "code",
   "execution_count": 44,
   "metadata": {
    "collapsed": false
   },
   "outputs": [],
   "source": [
    "LSTM_OUTPUT = np.array([o1, o2, o3 ,o4])\n",
    "LSTM_OUTPUT = LSTM_OUTPUT.reshape(4, 6)"
   ]
  },
  {
   "cell_type": "code",
   "execution_count": 45,
   "metadata": {
    "collapsed": false
   },
   "outputs": [],
   "source": [
    "LSTM_OUTPUT = LSTM_OUTPUT.reshape(4, 6)"
   ]
  },
  {
   "cell_type": "code",
   "execution_count": 46,
   "metadata": {
    "collapsed": false
   },
   "outputs": [
    {
     "data": {
      "text/plain": [
       "array([[9.99823739e-01, 9.99949442e-01, 9.99618458e-01, 9.99748866e-01,\n",
       "        9.99770552e-01, 9.98192076e-01],\n",
       "       [2.79246942e-11, 9.99997804e-01, 7.15647821e-01, 4.68304474e-25,\n",
       "        1.09918002e-30, 7.65174043e-01],\n",
       "       [9.84597138e-01, 8.63803875e-01, 9.99972845e-01, 9.99993528e-01,\n",
       "        9.99864804e-01, 9.97430654e-01],\n",
       "       [9.01014387e-01, 5.75759784e-01, 9.99919169e-01, 9.99867581e-01,\n",
       "        9.80015780e-01, 9.74207881e-01]])"
      ]
     },
     "execution_count": 46,
     "metadata": {},
     "output_type": "execute_result"
    }
   ],
   "source": [
    "LSTM_OUTPUT"
   ]
  },
  {
   "cell_type": "code",
   "execution_count": 47,
   "metadata": {
    "collapsed": true
   },
   "outputs": [],
   "source": [
    "#----------------------------------------------------\n",
    "#CNN"
   ]
  },
  {
   "cell_type": "code",
   "execution_count": 48,
   "metadata": {
    "collapsed": true
   },
   "outputs": [],
   "source": [
    "Filter = np.random.random(size=[3,3])"
   ]
  },
  {
   "cell_type": "code",
   "execution_count": 49,
   "metadata": {
    "collapsed": false
   },
   "outputs": [],
   "source": [
    "F11 = np.sum(np.multiply(Filter ,LSTM_OUTPUT[0:3, 0:3]))\n",
    "F12 = np.sum(np.multiply(Filter ,LSTM_OUTPUT[0:3, 1:4]))\n",
    "F13 = np.sum(np.multiply(Filter ,LSTM_OUTPUT[0:3, 2:5]))\n",
    "F14 = np.sum(np.multiply(Filter ,LSTM_OUTPUT[0:3, 3:6]))\n",
    "F21 = np.sum(np.multiply(Filter ,LSTM_OUTPUT[1:4, 0:3]))\n",
    "F22 = np.sum(np.multiply(Filter ,LSTM_OUTPUT[1:4, 1:4]))\n",
    "F23 = np.sum(np.multiply(Filter ,LSTM_OUTPUT[1:4, 2:5]))\n",
    "F24 = np.sum(np.multiply(Filter ,LSTM_OUTPUT[1:4, 3:6]))"
   ]
  },
  {
   "cell_type": "code",
   "execution_count": 50,
   "metadata": {
    "collapsed": false
   },
   "outputs": [],
   "source": [
    "CNN_OUTPUT = np.array([[F11, F12, F23, F14], [F21, F22, F23, F24]])"
   ]
  },
  {
   "cell_type": "code",
   "execution_count": 51,
   "metadata": {
    "collapsed": true
   },
   "outputs": [],
   "source": [
    "#----------------------------------------------------\n",
    "#Maxpooling"
   ]
  },
  {
   "cell_type": "code",
   "execution_count": 52,
   "metadata": {
    "collapsed": false
   },
   "outputs": [],
   "source": [
    "P1 = max(F11, F12, F21, F22)\n",
    "P2 = max(F12, F13, F22, F23)\n",
    "P3 = max(F13, F14, F23, F24)\n",
    "output_layer = np.array([P1, P2, P3])"
   ]
  },
  {
   "cell_type": "code",
   "execution_count": 53,
   "metadata": {
    "collapsed": false
   },
   "outputs": [],
   "source": [
    "P = softmax(output_layer)"
   ]
  },
  {
   "cell_type": "code",
   "execution_count": 54,
   "metadata": {
    "collapsed": false
   },
   "outputs": [
    {
     "data": {
      "text/plain": [
       "array([0.36821844, 0.36821844, 0.26356312])"
      ]
     },
     "execution_count": 54,
     "metadata": {},
     "output_type": "execute_result"
    }
   ],
   "source": [
    "P"
   ]
  },
  {
   "cell_type": "code",
   "execution_count": 55,
   "metadata": {
    "collapsed": false
   },
   "outputs": [
    {
     "data": {
      "text/plain": [
       "3.145957588258981"
      ]
     },
     "execution_count": 55,
     "metadata": {},
     "output_type": "execute_result"
    }
   ],
   "source": [
    "P3"
   ]
  },
  {
   "cell_type": "code",
   "execution_count": null,
   "metadata": {
    "collapsed": true
   },
   "outputs": [],
   "source": []
  },
  {
   "cell_type": "code",
   "execution_count": null,
   "metadata": {
    "collapsed": false
   },
   "outputs": [],
   "source": [
    "Filte"
   ]
  },
  {
   "cell_type": "code",
   "execution_count": null,
   "metadata": {
    "collapsed": false
   },
   "outputs": [],
   "source": [
    "LSTM_OUTPUT"
   ]
  },
  {
   "cell_type": "code",
   "execution_count": null,
   "metadata": {
    "collapsed": false
   },
   "outputs": [],
   "source": [
    "F11"
   ]
  },
  {
   "cell_type": "code",
   "execution_count": null,
   "metadata": {
    "collapsed": true
   },
   "outputs": [],
   "source": []
  }
 ],
 "metadata": {
  "anaconda-cloud": {},
  "kernelspec": {
   "display_name": "Python [conda root]",
   "language": "python",
   "name": "conda-root-py"
  },
  "language_info": {
   "codemirror_mode": {
    "name": "ipython",
    "version": 3
   },
   "file_extension": ".py",
   "mimetype": "text/x-python",
   "name": "python",
   "nbconvert_exporter": "python",
   "pygments_lexer": "ipython3",
   "version": "3.5.2"
  }
 },
 "nbformat": 4,
 "nbformat_minor": 1
}
